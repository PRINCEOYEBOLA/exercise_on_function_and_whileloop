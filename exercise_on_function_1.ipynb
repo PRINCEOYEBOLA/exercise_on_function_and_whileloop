{
 "cells": [
  {
   "cell_type": "code",
   "execution_count": 95,
   "id": "d98e495f-ad5e-4f97-afd3-d18f04fe0a22",
   "metadata": {},
   "outputs": [
    {
     "name": "stdout",
     "output_type": "stream",
     "text": [
      "Reinitialized existing Git repository in C:/Users/USER/Downloads/Telegram Desktop/SIDEHUSTLE PYTHON/.git/\n"
     ]
    }
   ],
   "source": [
    "!git init "
   ]
  },
  {
   "cell_type": "code",
   "execution_count": 89,
   "id": "9442f468-06b4-47d6-b4da-205766d209c6",
   "metadata": {},
   "outputs": [],
   "source": [
    "#!git commit -m \"first commit\""
   ]
  },
  {
   "cell_type": "code",
   "execution_count": 88,
   "id": "12319cc0-786a-4b49-89ab-70452b95a1c6",
   "metadata": {},
   "outputs": [],
   "source": [
    "!git add exercise_on_function_1.ipynb "
   ]
  },
  {
   "cell_type": "code",
   "execution_count": 90,
   "id": "d2347e4c-b9fa-478c-bf5d-51f57d4eee5f",
   "metadata": {},
   "outputs": [
    {
     "name": "stdout",
     "output_type": "stream",
     "text": [
      "[exercise_on_function_1.ipynb 044b91b] first commit\n",
      " 1 file changed, 130 insertions(+), 465 deletions(-)\n"
     ]
    }
   ],
   "source": [
    "!git commit -m \"first commit\" exercise_on_function_1.ipynb"
   ]
  },
  {
   "cell_type": "code",
   "execution_count": 91,
   "id": "8a973833-9a11-451f-b771-3c30e0df5e36",
   "metadata": {},
   "outputs": [
    {
     "name": "stdout",
     "output_type": "stream",
     "text": [
      "[exercise_on_function_1.ipynb afd8135] first commit\n",
      " 1 file changed, 15 insertions(+), 5 deletions(-)\n"
     ]
    }
   ],
   "source": [
    "!git commit -m  \"first commit\" exercise_on_function_1.ipynb"
   ]
  },
  {
   "cell_type": "code",
   "execution_count": 92,
   "id": "08c8b41a-420c-4f39-bdf5-3223fced82e5",
   "metadata": {},
   "outputs": [
    {
     "name": "stderr",
     "output_type": "stream",
     "text": [
      "error: remote origin already exists.\n"
     ]
    }
   ],
   "source": [
    "!git remote add origin https://github.com/PRINCEOYEBOLA/exercise_on_function_1.git"
   ]
  },
  {
   "cell_type": "code",
   "execution_count": 93,
   "id": "a9cc05b4-abcd-4f47-8b55-868e5c3f7f77",
   "metadata": {},
   "outputs": [
    {
     "name": "stdout",
     "output_type": "stream",
     "text": [
      "On branch exercise_on_function_1.ipynb\n",
      "Your branch is ahead of 'origin/main' by 15 commits.\n",
      "  (use \"git push\" to publish your local commits)\n",
      "\n",
      "Changes not staged for commit:\n",
      "  (use \"git add <file>...\" to update what will be committed)\n",
      "  (use \"git restore <file>...\" to discard changes in working directory)\n",
      "\tmodified:   exercise_on_function_while_loop.ipynb\n",
      "\n",
      "Untracked files:\n",
      "  (use \"git add <file>...\" to include in what will be committed)\n",
      "\t.ipynb_checkpoints/\n",
      "\tCapstone Project Trial - Copy.txt\n",
      "\tCapstone Project Trial.txt\n",
      "\tCopy of python week6 video-3.mp4\n",
      "\tCopy of python week6 video-4.mp4\n",
      "\tCopy of python week6 video-5.mp4\n",
      "\tDATACAMPvideo.mp4\n",
      "\tNo.Starch.Python.Oct_.2015.ISBN_.1593276036.pdf\n",
      "\tPRACTICE ON MACHINE LEARNING.ipynb\n",
      "\tPYTHON CLASS VIDEO 4.mp4\n",
      "\tPYTHON CLASS VIDEO.mp4\n",
      "\tPYTHON ML SIDEHUSTLE.mp4\n",
      "\tPYTHON SIDEHUSTLE ML.ogg\n",
      "\tPYTHON VIDEO SIDEHUSTLE.mp4\n",
      "\tPYTHON record.ogg\n",
      "\tPYTHONrecord (3).ogg\n",
      "\tPython Cheatsheet.pdf\n",
      "\tPython Interview QnA.pdf\n",
      "\tPython Week 3 (1).ogg\n",
      "\tPython Week 3(1) Video.mp4\n",
      "\tSTARTER AT SIDEHUSTLE.ipynb\n",
      "\tSTUDENT SCORE FOR PLOT.spydata\n",
      "\tSalaries.csv\n",
      "\tSideHustle Python (1) - Jupyter Notebook.pdf\n",
      "\tSideHustle Python (2).ipynb\n",
      "\tSideHustle Python (3) - Copy.ipynb\n",
      "\tSideHustle Python (3).ipynb\n",
      "\tSideHustle Python 3.ipynb\n",
      "\tSideHustle Python 4.ipynb\n",
      "\tSideHustle Python.ipynb\n",
      "\tSidehustle with Garfield.ogg\n",
      "\tUntitled.ipynb\n",
      "\tUntitled1.ipynb\n",
      "\tUntitled2.ipynb\n",
      "\tUntitled3.ipynb\n",
      "\tUntitled5.ipynb\n",
      "\tUntitled6.ipynb\n",
      "\tcapstone2.ipynb\n",
      "\tcapstoneprojecttrial - Copy.ipynb\n",
      "\tcapstoneprojecttrial.ipynb\n",
      "\tchallenge.ipynb\n",
      "\tcodingchallenge.ipynb\n",
      "\tcorrectionofdata.ipynb\n",
      "\tcrash course.doc\n",
      "\texercises.ipynb\n",
      "\tfreestylework.ipynb\n",
      "\tfurtheronwhilelooplistanddictionary.ipynb\n",
      "\tinternship.py\n",
      "\tjustgeneralwork.ipynb\n",
      "\tmachinelearning.ipynb\n",
      "\tmysql.ipynb\n",
      "\tpopulationwork.ipynb\n",
      "\tpython_crash_course_2nd_edition_a_hands_on_project_based_introduction.pdf\n",
      "\trecord.ogg\n",
      "\tstillonmatplotlib.ipynb\n",
      "\tstillonwhileloop.ipynb\n",
      "\tweek6quiz.ipynb\n",
      "\tweek_3.JPG\n",
      "\tweek_3capstone.JPG\n",
      "\tworkingonfunction.ipynb\n",
      "\tworkingonmatplotlib.ipynb\n",
      "\tworkingonmongodb.ipynb\n",
      "\tworkonpandas.ipynb\n",
      "\n",
      "no changes added to commit (use \"git add\" and/or \"git commit -a\")\n"
     ]
    }
   ],
   "source": [
    "!git commit -m \"first commit\"  exercise_on_function_1.ipynb"
   ]
  },
  {
   "cell_type": "code",
   "execution_count": null,
   "id": "1ad63919-38d1-412a-9c2c-271b86a7f8c2",
   "metadata": {},
   "outputs": [],
   "source": [
    "!git add exercise_on"
   ]
  },
  {
   "cell_type": "markdown",
   "id": "8c3c034e-b576-4abc-be91-6b10810beab3",
   "metadata": {},
   "source": [
    "8-3. T-Shirt: Write a function called make_shirt() that accepts a size and the\n",
    "text of a message that should be printed on the shirt. The function should print\n",
    "a sentence summarizing the size of the shirt and the message printed on it.\n",
    "Call the function once using positional arguments to make a shirt Call the\n",
    "function a second time using keyword arguments"
   ]
  },
  {
   "cell_type": "code",
   "execution_count": 6,
   "id": "e44c5a62-7962-4c4a-a4b1-611eb96a08a2",
   "metadata": {},
   "outputs": [
    {
     "name": "stdout",
     "output_type": "stream",
     "text": [
      "I have made a new lovely size 42 shirt.\n",
      "The print on it is Thy Kingdom Come.\n"
     ]
    }
   ],
   "source": [
    "#write a function called make_shirt and call it\n",
    "#calling function using positional arguments\n",
    "def make_shirt(size_shirt, text_shirt):\n",
    "    \"\"\"Display information about a pet.\"\"\"\n",
    "    print(\"I have made a new lovely size \" + str(size_shirt) + \" shirt.\")\n",
    "    print(\"The print on it is \" + text_shirt.title() + \".\")\n",
    "make_shirt(42, \"Thy Kingdom Come\")"
   ]
  },
  {
   "cell_type": "code",
   "execution_count": 7,
   "id": "9e43d419-0482-4d0a-8ad6-1adce5c13033",
   "metadata": {},
   "outputs": [
    {
     "name": "stdout",
     "output_type": "stream",
     "text": [
      "\n",
      "I have a hamster.\n",
      "My hamster's name is Harry.\n"
     ]
    }
   ],
   "source": [
    "#using keywords argument\n",
    "def describe_pet(animal_type, pet_name):\n",
    "    \"\"\"Display information about a pet.\"\"\"\n",
    "    print(\"\\nI have a \" + animal_type + \".\")\n",
    "    print(\"My \" + animal_type + \"'s name is \" + pet_name.title() + \".\")\n",
    "describe_pet(animal_type='hamster', pet_name='harry')"
   ]
  },
  {
   "cell_type": "code",
   "execution_count": 8,
   "id": "b432df36-3948-48c8-878d-66143f7f6598",
   "metadata": {},
   "outputs": [
    {
     "name": "stdout",
     "output_type": "stream",
     "text": [
      "I have made a new lovely size 42 shirt.\n",
      "The print on it is JESUS CHRIST.\n"
     ]
    }
   ],
   "source": [
    "#write a function called make_shirt and call it\n",
    "#calling function usingkeyword arguments\n",
    "def make_shirt(size_shirt, text_shirt):\n",
    "    \"\"\"Display information about a pet.\"\"\"\n",
    "    print(\"I have made a new lovely size \" + str(size_shirt) + \" shirt.\")\n",
    "    print(\"The print on it is \" + text_shirt.upper() + \".\")\n",
    "make_shirt(size_shirt = 42, text_shirt=\"jesus christ\")"
   ]
  },
  {
   "cell_type": "code",
   "execution_count": 9,
   "id": "6e610906-78c7-45e2-97e7-c33f6a1f72e8",
   "metadata": {},
   "outputs": [
    {
     "name": "stdout",
     "output_type": "stream",
     "text": [
      "I have made a new lovely size 10 shirt for Ireyimika.\n",
      "The print on it is I AM A JESUS FREAK!.\n"
     ]
    }
   ],
   "source": [
    "#calling function usingkeyword arguments\n",
    "def make_shirt(size_shirt, text_shirt):\n",
    "    \"\"\"Display information about a pet.\"\"\"\n",
    "    print(\"I have made a new lovely size \" + str(size_shirt) + \" shirt for Ireyimika.\")\n",
    "    print(\"The print on it is \" + text_shirt.upper() + \".\")\n",
    "make_shirt(size_shirt = 10,text_shirt= \"i am a jesus freak!\")"
   ]
  },
  {
   "cell_type": "code",
   "execution_count": 10,
   "id": "609676d0-6df5-4d18-a779-67b9beef0b1e",
   "metadata": {},
   "outputs": [
    {
     "name": "stdout",
     "output_type": "stream",
     "text": [
      "I have made a new lovely size 8 shirt for Ireyimika.\n",
      "The print on it is I LOVE JESUS!.\n",
      "I have made a new lovely size 11 shirt for Ireyimika.\n",
      "The print on it is I AM BLESSED ALWAYS!.\n"
     ]
    }
   ],
   "source": [
    "make_shirt(size_shirt = 8,text_shirt= \"i love jesus!\")\n",
    "make_shirt(size_shirt = 11,text_shirt= \"i am blessed always!\")"
   ]
  },
  {
   "cell_type": "code",
   "execution_count": 11,
   "id": "86b05f55-be84-475e-a61b-16909980ae60",
   "metadata": {},
   "outputs": [
    {
     "name": "stdout",
     "output_type": "stream",
     "text": [
      "I have made a new lovely size 10 shirt for IREYIMIKA.\n",
      "The print on it is I AM A JESUS FREAK!.\n"
     ]
    }
   ],
   "source": [
    "#calling function usingkeyword arguments\n",
    "def make_shirt(size_shirt, text_shirt, shirt_owner):\n",
    "    \"\"\"Display information about a pet.\"\"\"\n",
    "    print(\"I have made a new lovely size \" + str(size_shirt) + \" shirt for \" + shirt_owner.upper() + \".\")\n",
    "    print(\"The print on it is \" + text_shirt.upper() + \".\")\n",
    "make_shirt(size_shirt = 10,text_shirt= \"i am a jesus freak!\", shirt_owner= \"ireyimika\")"
   ]
  },
  {
   "cell_type": "code",
   "execution_count": 12,
   "id": "b15b9185-fe6c-4ae8-9b8b-5d1358f6d015",
   "metadata": {},
   "outputs": [
    {
     "name": "stdout",
     "output_type": "stream",
     "text": [
      "I have made a new lovely size 8 shirt for DAVID.\n",
      "The print on it is I LOVE JESUS!.\n",
      "I have made a new lovely size 11 shirt for OBED.\n",
      "The print on it is I AM BLESSED ALWAYS!.\n"
     ]
    }
   ],
   "source": [
    "make_shirt(size_shirt = 8, shirt_owner= \"david\", text_shirt= \"i love jesus!\")\n",
    "make_shirt(size_shirt = 11, shirt_owner= \"obed\", text_shirt= \"i am blessed always!\")"
   ]
  },
  {
   "cell_type": "markdown",
   "id": "c7435912-654b-4549-b984-1daaca6fbd19",
   "metadata": {},
   "source": [
    "8-4. Large Shirts: Modify the make_shirt() function so that shirts are large\n",
    "by default with a message that reads 'I love Python'. Make a large shirt and a\n",
    "medium shirt with the default message, and a shirt of any size with a different\n",
    "message"
   ]
  },
  {
   "cell_type": "code",
   "execution_count": 21,
   "id": "353c46df-e5c6-4e39-adf6-1c646fea3175",
   "metadata": {},
   "outputs": [
    {
     "name": "stdout",
     "output_type": "stream",
     "text": [
      "I just bought a Large size shirt recently.\n",
      "The lettering on the shirt that I bought is, 'I love python!' .\n"
     ]
    }
   ],
   "source": [
    "#using default values\n",
    "def make_shirt(size_shirt = 'Large', text_shirt = \"'I love python!'\"):\n",
    "    print(\"I just bought a \" + size_shirt + \" size shirt recently.\" )\n",
    "    print(\"The lettering on the shirt that I bought is, \" + text_shirt + \" .\")\n",
    "make_shirt()"
   ]
  },
  {
   "cell_type": "code",
   "execution_count": 22,
   "id": "10a77f91-aa59-49a7-9693-a6139e746728",
   "metadata": {},
   "outputs": [
    {
     "name": "stdout",
     "output_type": "stream",
     "text": [
      "I just bought a Medium size shirt recently.\n",
      "The lettering on the shirt that I bought is, 'I Am A Data Analyst!' .\n"
     ]
    }
   ],
   "source": [
    "def make_shirt(size_shirt = 'medium', text_shirt = \"'i am a data analyst!'\"):\n",
    "    print(\"I just bought a \" + size_shirt.title() + \" size shirt recently.\" )\n",
    "    print(\"The lettering on the shirt that I bought is, \" + text_shirt.title() + \" .\")\n",
    "make_shirt()"
   ]
  },
  {
   "cell_type": "code",
   "execution_count": 23,
   "id": "5ca9e07c-b18a-4847-aad6-21f04013d985",
   "metadata": {},
   "outputs": [
    {
     "name": "stdout",
     "output_type": "stream",
     "text": [
      "I just bought a 8 size shirt recently.\n",
      "The lettering on the shirt that I bought is, 'I Love Programming!' .\n"
     ]
    }
   ],
   "source": [
    "def make_shirt(size_shirt = '8', text_shirt = \"'i love programming!'\"):\n",
    "    print(\"I just bought a \" + size_shirt.title() + \" size shirt recently.\" )\n",
    "    print(\"The lettering on the shirt that I bought is, \" + text_shirt.title() + \" .\")\n",
    "make_shirt()"
   ]
  },
  {
   "cell_type": "code",
   "execution_count": 25,
   "id": "8c21977e-dc26-4556-955f-f52c04ea3d34",
   "metadata": {},
   "outputs": [
    {
     "name": "stdout",
     "output_type": "stream",
     "text": [
      "I just bought a Small size shirt recently.\n",
      "The lettering on the shirt that I bought is, I Am A Christian .\n"
     ]
    }
   ],
   "source": [
    "#shirt of different size and different message\n",
    "make_shirt(size_shirt= \"small\", text_shirt= \"i am a christian\")"
   ]
  },
  {
   "cell_type": "markdown",
   "id": "82fd8f82-48a1-4124-b784-56cb0d5cd9bf",
   "metadata": {},
   "source": [
    "8-5. Cities: Write a function called describe_city() that accepts the name of\n",
    "a city and its country. The function should print a simple sentence, such as\n",
    "Reykjavik is in Iceland. Give the parameter for the country a default value.\n",
    "Call your function for three different cities, at least one of which is not in the\n",
    "default country"
   ]
  },
  {
   "cell_type": "code",
   "execution_count": 35,
   "id": "66763d7c-7916-465d-9084-e775ca329042",
   "metadata": {},
   "outputs": [
    {
     "name": "stdout",
     "output_type": "stream",
     "text": [
      "\n",
      "The city of Accra is locate in Ghana.\n",
      "\n",
      "The city of Ibandan is locate in Nigeria.\n",
      "\n",
      "The city of Niamey is locate in Niger.\n"
     ]
    }
   ],
   "source": [
    "#function on city and country\n",
    "def describe_city(city_name, city_country):\n",
    "    print(\"\\nThe city of \" + city_name.title() + \" is locate in \" + city_country.title() + \".\")\n",
    "describe_city(\"accra\", \"ghana\")\n",
    "describe_city(\"ibandan\", \"nigeria\")\n",
    "describe_city(\"niamey\", \"niger\")"
   ]
  },
  {
   "cell_type": "code",
   "execution_count": 34,
   "id": "1a62ea9c-ee74-42cd-b802-4cac27033061",
   "metadata": {},
   "outputs": [
    {
     "name": "stdout",
     "output_type": "stream",
     "text": [
      "\n",
      "The city of Ibandan is locate in Nigeria.\n",
      "\n",
      "The city of Abeokuta is locate in Nigeria.\n",
      "\n",
      "The city of Lagos is locate in Nigeria.\n"
     ]
    }
   ],
   "source": [
    "#including a default value for country\n",
    "def describe_city(city_name, city_country = \"nigeria\"):\n",
    "    print(\"\\nThe city of \" + city_name.title() + \" is locate in \" + city_country.title() + \".\")\n",
    "describe_city(\"ibandan\")\n",
    "describe_city(\"Abeokuta\")\n",
    "describe_city(\"lagos\")"
   ]
  },
  {
   "cell_type": "code",
   "execution_count": 14,
   "id": "3f8cfc0c-3532-4751-996b-91d6fb3efaa9",
   "metadata": {},
   "outputs": [
    {
     "name": "stdout",
     "output_type": "stream",
     "text": [
      "[exercise_on_function_while_loop.ipynb 9709830] first commit\n",
      " 1 file changed, 113 insertions(+), 15 deletions(-)\n"
     ]
    }
   ],
   "source": [
    "!git commit -m  \"first commit\" exercise_on_function_1.ipynb"
   ]
  },
  {
   "cell_type": "code",
   "execution_count": 59,
   "id": "024b38f0-092e-4195-9f2a-3fa4dfcbf763",
   "metadata": {
    "tags": []
   },
   "outputs": [
    {
     "name": "stdout",
     "output_type": "stream",
     "text": [
      "[exercise_on_function_1.ipynb e9552e1] first commit\n",
      " 1 file changed, 124 insertions(+), 8 deletions(-)\n"
     ]
    }
   ],
   "source": [
    "!git commit -m  \"first commit\" exercise_on_function_1.ipynb"
   ]
  },
  {
   "cell_type": "code",
   "execution_count": 61,
   "id": "b4cf24ac-4ccc-48ff-89bc-1fb1fe9522c8",
   "metadata": {
    "tags": []
   },
   "outputs": [],
   "source": [
    "!git add exercise_on_function_1.ipynb"
   ]
  },
  {
   "cell_type": "code",
   "execution_count": 64,
   "id": "0a5ca6e7-52b4-4ca8-b658-306066221317",
   "metadata": {
    "tags": []
   },
   "outputs": [
    {
     "name": "stdout",
     "output_type": "stream",
     "text": [
      "On branch exercise_on_function_1.ipynb\n",
      "Your branch is ahead of 'origin/main' by 10 commits.\n",
      "  (use \"git push\" to publish your local commits)\n",
      "\n",
      "Changes not staged for commit:\n",
      "  (use \"git add <file>...\" to update what will be committed)\n",
      "  (use \"git restore <file>...\" to discard changes in working directory)\n",
      "\tmodified:   exercise_on_function_while_loop.ipynb\n",
      "\n",
      "Untracked files:\n",
      "  (use \"git add <file>...\" to include in what will be committed)\n",
      "\t.ipynb_checkpoints/\n",
      "\tCapstone Project Trial - Copy.txt\n",
      "\tCapstone Project Trial.txt\n",
      "\tCopy of python week6 video-3.mp4\n",
      "\tCopy of python week6 video-4.mp4\n",
      "\tCopy of python week6 video-5.mp4\n",
      "\tDATACAMPvideo.mp4\n",
      "\tNo.Starch.Python.Oct_.2015.ISBN_.1593276036.pdf\n",
      "\tPRACTICE ON MACHINE LEARNING.ipynb\n",
      "\tPYTHON CLASS VIDEO 4.mp4\n",
      "\tPYTHON CLASS VIDEO.mp4\n",
      "\tPYTHON ML SIDEHUSTLE.mp4\n",
      "\tPYTHON SIDEHUSTLE ML.ogg\n",
      "\tPYTHON VIDEO SIDEHUSTLE.mp4\n",
      "\tPYTHON record.ogg\n",
      "\tPYTHONrecord (3).ogg\n",
      "\tPython Cheatsheet.pdf\n",
      "\tPython Interview QnA.pdf\n",
      "\tPython Week 3 (1).ogg\n",
      "\tPython Week 3(1) Video.mp4\n",
      "\tSTARTER AT SIDEHUSTLE.ipynb\n",
      "\tSTUDENT SCORE FOR PLOT.spydata\n",
      "\tSalaries.csv\n",
      "\tSideHustle Python (1) - Jupyter Notebook.pdf\n",
      "\tSideHustle Python (2).ipynb\n",
      "\tSideHustle Python (3) - Copy.ipynb\n",
      "\tSideHustle Python (3).ipynb\n",
      "\tSideHustle Python 3.ipynb\n",
      "\tSideHustle Python 4.ipynb\n",
      "\tSideHustle Python.ipynb\n",
      "\tSidehustle with Garfield.ogg\n",
      "\tUntitled.ipynb\n",
      "\tUntitled1.ipynb\n",
      "\tUntitled2.ipynb\n",
      "\tUntitled3.ipynb\n",
      "\tUntitled5.ipynb\n",
      "\tUntitled6.ipynb\n",
      "\tcapstone2.ipynb\n",
      "\tcapstoneprojecttrial - Copy.ipynb\n",
      "\tcapstoneprojecttrial.ipynb\n",
      "\tchallenge.ipynb\n",
      "\tcodingchallenge.ipynb\n",
      "\tcorrectionofdata.ipynb\n",
      "\tcrash course.doc\n",
      "\texercises.ipynb\n",
      "\tfreestylework.ipynb\n",
      "\tfurtheronwhilelooplistanddictionary.ipynb\n",
      "\tinternship.py\n",
      "\tjustgeneralwork.ipynb\n",
      "\tmachinelearning.ipynb\n",
      "\tmysql.ipynb\n",
      "\tpopulationwork.ipynb\n",
      "\tpython_crash_course_2nd_edition_a_hands_on_project_based_introduction.pdf\n",
      "\trecord.ogg\n",
      "\tstillonmatplotlib.ipynb\n",
      "\tstillonwhileloop.ipynb\n",
      "\tweek6quiz.ipynb\n",
      "\tweek_3.JPG\n",
      "\tweek_3capstone.JPG\n",
      "\tworkingonfunction.ipynb\n",
      "\tworkingonmatplotlib.ipynb\n",
      "\tworkingonmongodb.ipynb\n",
      "\tworkonpandas.ipynb\n",
      "\n",
      "no changes added to commit (use \"git add\" and/or \"git commit -a\")\n"
     ]
    }
   ],
   "source": [
    "!git commit -m  exercise_on_function_1.ipynb"
   ]
  },
  {
   "cell_type": "code",
   "execution_count": null,
   "id": "2a430c1c-0bd6-4bc0-854f-773044a29620",
   "metadata": {},
   "outputs": [],
   "source": []
  }
 ],
 "metadata": {
  "kernelspec": {
   "display_name": "Python 3 (ipykernel)",
   "language": "python",
   "name": "python3"
  },
  "language_info": {
   "codemirror_mode": {
    "name": "ipython",
    "version": 3
   },
   "file_extension": ".py",
   "mimetype": "text/x-python",
   "name": "python",
   "nbconvert_exporter": "python",
   "pygments_lexer": "ipython3",
   "version": "3.9.7"
  }
 },
 "nbformat": 4,
 "nbformat_minor": 5
}
