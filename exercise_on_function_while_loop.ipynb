{
 "cells": [
  {
   "cell_type": "code",
   "execution_count": 23,
   "id": "3e5ff250-b4be-447a-8a98-2f2bd95afeb0",
   "metadata": {},
   "outputs": [
    {
     "name": "stdout",
     "output_type": "stream",
     "text": [
      "Reinitialized existing Git repository in C:/Users/USER/Downloads/Telegram Desktop/SIDEHUSTLE PYTHON/.git/\n"
     ]
    }
   ],
   "source": [
    "!git init"
   ]
  },
  {
   "cell_type": "markdown",
   "id": "f288ed17-c01b-4586-9c80-3903383d29e3",
   "metadata": {},
   "source": [
    "QUESTION\n",
    "8-6. City Names: Write a function called city_country() that takes in the name\n",
    "of a city and its country. The function should return a string formatted like this:\n",
    "\"Santiago, Chile\"\n",
    "Call your function with at least three city-country pairs, and print the value\n",
    "that’s returned"
   ]
  },
  {
   "cell_type": "code",
   "execution_count": null,
   "id": "0164f3f1-882e-4254-b584-77c58a3ab3b5",
   "metadata": {},
   "outputs": [],
   "source": [
    "!git commit -m \"first commit\""
   ]
  },
  {
   "cell_type": "code",
   "execution_count": 5,
   "id": "9ea157e8-2cd3-43fb-8b04-6c02ad45d3f1",
   "metadata": {},
   "outputs": [
    {
     "name": "stdout",
     "output_type": "stream",
     "text": [
      "Ibadan , Nigeria\n"
     ]
    }
   ],
   "source": [
    "#answer to the question\n",
    "def city_country(city_name, city_country):\n",
    "    city_location = city_name +  \" , \"  + city_country\n",
    "    return city_location.title()\n",
    "city_list = city_country(\"ibadan\", \"nigeria\")\n",
    "print(city_list)"
   ]
  },
  {
   "cell_type": "code",
   "execution_count": 8,
   "id": "fdf444c4-e774-4ba8-a03d-e24d2dc89203",
   "metadata": {},
   "outputs": [
    {
     "name": "stdout",
     "output_type": "stream",
     "text": [
      "Accra , Ghana\n",
      "Abeokuta , Nigeria\n",
      "Osogbo , Nigeria\n"
     ]
    }
   ],
   "source": [
    "city_list = city_country(\"accra\", \"ghana\")\n",
    "print(city_list)\n",
    "city_list = city_country(\"abeokuta\", \"nigeria\")\n",
    "print(city_list)\n",
    "city_list = city_country(\"osogbo\", \"nigeria\")\n",
    "print(city_list)"
   ]
  },
  {
   "cell_type": "code",
   "execution_count": 11,
   "id": "6a7d6282-8c46-462e-be90-f7d877a6ad69",
   "metadata": {},
   "outputs": [
    {
     "name": "stdout",
     "output_type": "stream",
     "text": [
      "{'city': 'ibadan', 'country': 'nigeria'}\n"
     ]
    }
   ],
   "source": [
    "def city_country(city_name, country_name):\n",
    "    city_location = {'city' : city_name, 'country' : country_name}\n",
    "    return city_location\n",
    "city_list = city_country(\"ibadan\", \"nigeria\")\n",
    "print(city_list)"
   ]
  },
  {
   "cell_type": "code",
   "execution_count": 12,
   "id": "8ee06d99-7056-432b-8d2f-2ccae15c16bd",
   "metadata": {},
   "outputs": [
    {
     "name": "stdout",
     "output_type": "stream",
     "text": [
      "{'city': 'accra', 'country': 'ghana'}\n",
      "{'city': 'abeokuta', 'country': 'nigeria'}\n",
      "{'city': 'osogbo', 'country': 'nigeria'}\n"
     ]
    }
   ],
   "source": [
    "city_list = city_country(\"accra\", \"ghana\")\n",
    "print(city_list)\n",
    "city_list = city_country(\"abeokuta\", \"nigeria\")\n",
    "print(city_list)\n",
    "city_list = city_country(\"osogbo\", \"nigeria\")\n",
    "print(city_list)"
   ]
  },
  {
   "cell_type": "code",
   "execution_count": null,
   "id": "c47d3a20-65d3-443e-ae0f-b5afc70f7c25",
   "metadata": {},
   "outputs": [],
   "source": []
  },
  {
   "cell_type": "code",
   "execution_count": null,
   "id": "b0a5e8bc-c15d-45a7-9ec0-2eab0ba8870d",
   "metadata": {},
   "outputs": [],
   "source": []
  },
  {
   "cell_type": "markdown",
   "id": "2ec58cce-7a4a-49be-9d11-3abf2ac38a28",
   "metadata": {},
   "source": [
    "QUESTION\n",
    "8-7. Album: Write a function called make_album() that builds a dictionary\n",
    "describing a music album The function should take in an artist name and an\n",
    "album title, and it should return a dictionary containing these two pieces of\n",
    "information Use the function to make three dictionaries representing different\n",
    "albums Print each return value to show that the dictionaries are storing the\n",
    "album information correctly\n",
    "Add an optional parameter to make_album() that allows you to store the\n",
    "number of tracks on an album If the calling line includes a value for the number of tracks, add that value to the album’s dictionary Make at least one new\n",
    "function call that includes the number of tracks on an album"
   ]
  },
  {
   "cell_type": "code",
   "execution_count": null,
   "id": "c315f283-5e99-4a44-8f83-f51a1382e616",
   "metadata": {},
   "outputs": [],
   "source": [
    "def describe_city(city_name, city_country = \"nigeria\"):\n",
    "    print(\"\\nThe city of \" + city_name.title() + \" is locate in \" + city_country.title() + \".\")\n",
    "describe_city(\"ibandan\")\n",
    "describe_city(\"Abeokuta\")\n",
    "describe_city(\"lagos\")"
   ]
  },
  {
   "cell_type": "code",
   "execution_count": null,
   "id": "47de93fb-f296-4a37-8035-24eeeee45a98",
   "metadata": {},
   "outputs": [],
   "source": []
  },
  {
   "cell_type": "markdown",
   "id": "fe25da99-358b-4b77-837e-f9b4a8c95410",
   "metadata": {},
   "source": [
    "QUESTION\n",
    "8-8. User Albums: Start with your program from Exercise 8-7 Write a while\n",
    "loop that allows users to enter an album’s artist and title Once you have that\n",
    "information, call make_album() with the user’s input and print the dictionary\n",
    "that’s created Be sure to include a quit value in the while loop"
   ]
  }
 ],
 "metadata": {
  "kernelspec": {
   "display_name": "Python 3 (ipykernel)",
   "language": "python",
   "name": "python3"
  },
  "language_info": {
   "codemirror_mode": {
    "name": "ipython",
    "version": 3
   },
   "file_extension": ".py",
   "mimetype": "text/x-python",
   "name": "python",
   "nbconvert_exporter": "python",
   "pygments_lexer": "ipython3",
   "version": "3.9.7"
  }
 },
 "nbformat": 4,
 "nbformat_minor": 5
}
